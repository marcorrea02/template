{
 "cells": [
  {
   "cell_type": "markdown",
   "id": "3934eea8",
   "metadata": {},
   "source": [
    "# Project Overview\n",
    "\n",
    "**Program**: Theraputic Ultrasound (FDA/CDRH/OSEL/DAM/TU) <br>\n",
    "**PI**: Dr. Asis Lopez <br>\n",
    "**Developer**: Student Researcher **<span style=\"color:orangered\">[Marco Correa]</span>** <br>\n",
    "\n",
    "### Description\n",
    "The goal of the Neuromodulation project is to ...\n",
    "\n",
    "### Inputs\n",
    "- PDF FIle, links, parameters\n",
    "\n",
    "### Outputs \n",
    "- CSV file, plots \n",
    "\n",
    "### Deliverables\n",
    "\n",
    "- Code\n",
    "- Report?\n",
    "- Documentation"
   ]
  },
  {
   "cell_type": "code",
   "execution_count": null,
   "id": "cad4a1a6",
   "metadata": {},
   "outputs": [],
   "source": []
  },
  {
   "cell_type": "code",
   "execution_count": null,
   "id": "eea02513",
   "metadata": {},
   "outputs": [],
   "source": []
  },
  {
   "cell_type": "markdown",
   "id": "675ce2bb",
   "metadata": {},
   "source": [
    "---\n",
    "# Code Development\n",
    "The follwing section is for code development. This should include details about the code and it's components. \n",
    "\n",
    "Note: Good idea to have different cell for different parts/functions of the code. "
   ]
  },
  {
   "cell_type": "code",
   "execution_count": 1,
   "id": "445aacc7",
   "metadata": {},
   "outputs": [],
   "source": [
    "# Load Libraries \n",
    "import numpy as np\n",
    "import matplotlib.pyplot as plt"
   ]
  },
  {
   "cell_type": "code",
   "execution_count": 15,
   "id": "35f0a61e",
   "metadata": {},
   "outputs": [],
   "source": [
    "# Set variables \n"
   ]
  },
  {
   "cell_type": "code",
   "execution_count": 16,
   "id": "1c2b7e32",
   "metadata": {},
   "outputs": [],
   "source": [
    "# Create function\n"
   ]
  },
  {
   "cell_type": "code",
   "execution_count": 17,
   "id": "c5654442",
   "metadata": {},
   "outputs": [],
   "source": [
    "# Call function\n"
   ]
  },
  {
   "cell_type": "code",
   "execution_count": 18,
   "id": "7b8313e9",
   "metadata": {},
   "outputs": [],
   "source": [
    "# Save outputs\n"
   ]
  },
  {
   "cell_type": "code",
   "execution_count": null,
   "id": "179eb2af",
   "metadata": {},
   "outputs": [],
   "source": []
  },
  {
   "cell_type": "code",
   "execution_count": null,
   "id": "2ef3323e",
   "metadata": {},
   "outputs": [],
   "source": []
  },
  {
   "cell_type": "markdown",
   "id": "5883979e",
   "metadata": {},
   "source": [
    "---\n",
    "# Troubleshooting \n",
    "This section should include any helpful information, code, how to's, and lessons learned. This can include links, directory paths, and solution explanations. Ideally, if someone (or you at a later date) needs to pick up where you left off what would they need to know in order to run your code and what would help future troubleshooting. "
   ]
  },
  {
   "cell_type": "markdown",
   "id": "847a6053",
   "metadata": {},
   "source": [
    "Examples:\n",
    "- If your IP address gets blocked by the NIH website then get permission from NIH.\n",
    "- To quickly access a libray save it as an abbreviated name `import numpy as np` "
   ]
  },
  {
   "cell_type": "code",
   "execution_count": null,
   "id": "1d41385b",
   "metadata": {},
   "outputs": [],
   "source": []
  },
  {
   "cell_type": "code",
   "execution_count": null,
   "id": "6e6d7bec",
   "metadata": {},
   "outputs": [],
   "source": []
  },
  {
   "cell_type": "code",
   "execution_count": null,
   "id": "040c9b3b",
   "metadata": {},
   "outputs": [],
   "source": []
  }
 ],
 "metadata": {
  "kernelspec": {
   "display_name": "Python 3 (ipykernel)",
   "language": "python",
   "name": "python3"
  },
  "language_info": {
   "codemirror_mode": {
    "name": "ipython",
    "version": 3
   },
   "file_extension": ".py",
   "mimetype": "text/x-python",
   "name": "python",
   "nbconvert_exporter": "python",
   "pygments_lexer": "ipython3",
   "version": "3.11.5"
  }
 },
 "nbformat": 4,
 "nbformat_minor": 5
}
